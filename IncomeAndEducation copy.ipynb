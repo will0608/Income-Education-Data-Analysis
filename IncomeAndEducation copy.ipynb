{
 "cells": [
  {
   "cell_type": "markdown",
   "id": "6a578e92",
   "metadata": {},
   "source": [
    "<h1 style='text-align: center'> Assessing the Impact of an American's Income based on an College Education\n",
    "\n",
    "\n",
    "<h2 style='text-align: center'> Author: William Chung"
   ]
  },
  {
   "cell_type": "markdown",
   "id": "4834ce3e",
   "metadata": {},
   "source": [
    "## Introduction and Motivation:"
   ]
  },
  {
   "cell_type": "markdown",
   "id": "768828fb",
   "metadata": {},
   "source": [
    "Earning a college degree is all about opening up opportunities in life. When it comes to looking at long-term goals career-wise, getting a college degree will be a smart investment and the reasons will outweigh why you shouldn’t. College gives you a broad range of skills and many college graduates end up with unexpected opportunities that aren’t always there for those who haven’t engaged in a higher level of education. According to reports, those with a college degree have seen an increase in jobs, higher than those without a college degree. Based on research conducted by the Bureau of Labor Statistics, “full-time workers ages 22 to 27 who held a bachelor’s degree made a median annual wage of \\\\$52,000, compared with \\$30,000 for full-time workers of the same age with a high school diploma and no degree” (Pew Research Center para. 12). Through this analysis, we will emphasize how the higher the level of education attained, the educational threshold leads to higher salaries. Moreover, college education is expensive and as college students, it is important for us to understand why we pay expensive tuitions to go to college. According to Statista, 92% of adults identified “to improve employment opportunities” as their main reasonings to going to college. The trade off between the cost of going to college and the salary we get should be very clear; earn more than those who didn’t complete college education. This is the reason why we decided to do our research on the difference in salary between those with a college degree and without. "
   ]
  },
  {
   "cell_type": "markdown",
   "id": "30297b0a",
   "metadata": {},
   "source": [
    "## Literature review: "
   ]
  },
  {
   "cell_type": "markdown",
   "id": "7d3fc137",
   "metadata": {},
   "source": [
    "An educational article by Demetrio Scopelliti explains the benefits of getting a from a 4-year college. The author suggests that receiving college education benefits graduates by allowing them to earn greater income and wealth, as well as the ability to better manage debt going forward. According to the study, the wealth premium, which is the additional income earned by a family headed by a member with a college degree, was positive all across compared to those without a college degree. The study also suggests that getting a college degree in the 21st century is less of a worthwhile financial investment compared to the 20th century, however, it still suggests that the wealth premium of the family with a college degree is significantly more positive compared to those without.\n",
    "\n",
    "Thomas Gulledge, however, refutes this statement by providing examples from a study he conducted. In his article Gulledge states that his study “did not address those highly qualitative variables, but rather job security and salary progress” (Gulledge, 1982). \n",
    "\n",
    "Although Gulledge’s statement goes against our statement, an educational article by Roy Chan where he suggests that “government and labor markets expect higher education institutions to develop skilled professionals” (Chan, 2016), which goes along the line of what Scopelliti suggested. While employers keep looking for skilled and disciplined candidates, an individual who has a college degree would end up receiving a higher salary compared to those who don’t have a college degree. \n",
    "\n",
    "Additionally, to further prove this statement, in Mark Blaug’s academic resource, he examines the positive relationship found between the level of education and personal earnings in a study conducted in 30 countries. It attempts to explain through an economic perspective that better-educated people typically have higher earnings because education imparts valuable vocational skills increasing a worker’s chance of getting high-paying jobs when entering the labor market. Through higher education, new strategies will be learned allowing a boost to the economy.\n",
    "\n",
    "Along with this concept, A. M. Ross implies that higher education has led to more robust measures of accountability and administrative responsibilities. Individuals holding an advanced degree tend to exercise a more substantial measure of control and develop a noted readiness to create success by opening more professional pathways. \n",
    "\n",
    "Lastly, Ronald Heck defends the worth of higher education against the claims of unreasonably high tuition. He asserts that college is a smart economic choice and assesses the value of education comparing the rate of return for the investment in a college degree against other possible investment vehicles. Moreover, he implies that higher education broadens up vivid opportunities for talented students who have excelled educationally with future benefits in the economic dimension. There is no guarantee with regard to any investment, but the evidence on education is clear with these findings. The more education an individual obtains, it leads to more job prospects and higher future earnings."
   ]
  },
  {
   "cell_type": "markdown",
   "id": "e4493c71",
   "metadata": {},
   "source": [
    "## References"
   ]
  },
  {
   "cell_type": "markdown",
   "id": "80eb9ddd",
   "metadata": {},
   "source": [
    "Blaug, M. (1972). The Correlation between Education and Earnings: What Does It Signify? Higher Education, 1(1), 53–76. http://www.jstor.org/stable/3445959\n",
    "\n",
    "Chan, R. Y. (2016). Understanding the purpose of higher education: An analysis of the economic and social benefits for completing a college degree. Journal of Education Policy, Planning and Administration, 6(5), 1-40.\n",
    "https://scholar.harvard.edu/files/roychan/files/chan_r._y._2016._understanding_the_purpose_aim_function_of_higher_education._jeppa_65_1-40.pdf\n",
    "\n",
    "Gulledge, T. R., Peters, M. H., Schick, G. J., & Kunnecke, B. F. (1982). Do High Grades, Top Schools, or an Advanced Degree Lead to Job Security and Extraordinary Salary Progression: A Comment. Interfaces, 12(5), 115–118. http://www.jstor.org/stable/25060330\n",
    "\n",
    "Heck, R. H., Johnsrud, L. K., & Rosser, V. J. (2000). Administrative Effectiveness in Higher Education: Improving Assessment Procedures. Research in Higher Education, 41(6), 663–684. http://www.jstor.org/stable/40196410\n",
    "\n",
    "Ross, A. M. (1973). The Role of Higher Education Institutions in National Development. Higher Education, 2(1), 103–108. http://www.jstor.org/stable/3445764\n",
    "\n",
    "Scopelliti, D. (2020). The college payoff: a look at income and wealth premiums. Monthly Labor Review, 1–2. https://www.jstor.org/stable/26909888"
   ]
  },
  {
   "cell_type": "markdown",
   "id": "140b4a5c",
   "metadata": {},
   "source": [
    "## The Data Set"
   ]
  },
  {
   "cell_type": "markdown",
   "id": "5bfc05fa",
   "metadata": {},
   "source": [
    "Data was collected from the IPUMS USA database which provides census and survey data within the United States of America in 2019. From the IPUMS database, we extracted the respondent's yearly income and highest education level attained."
   ]
  },
  {
   "cell_type": "markdown",
   "id": "653f3cc3",
   "metadata": {},
   "source": [
    "### Explanation of Variables"
   ]
  },
  {
   "cell_type": "markdown",
   "id": "ac13700f",
   "metadata": {},
   "source": [
    "Looking specifically into the extracted variables, the first variable is INCWAGE. This variable reports each respondent's total pre-tax wage and salary income in US dollars. In other words, this is the money earned as an employee for the past year which includes wages, salaries, commissions, cash bonuses, tips. However, payments-in-kind or reimbursements for business expenses are not included. For example, the INCWAGE in 2014 represents the total earnings of 2013. There are some special codes to note (999999 = N/A, 999998 = Missing), which we cleaned out before conducting our statistics tables. Another variable is EDUC, which reports each respondent's highest level of education completed, that are categorized into numeric codes from 01 (Nursery to Grade 4) to 11 (5+ years of college). For example, if a respondent dropped out of school in 11th grade, the EDUC variable would output 04 (10th grade) since the respondent completed up to 10th grade. A special code that was needed to be cleaned was 00 N/A or no schooling. In this project, we assumed that a person has completed a college degree if he/she attended college for at least 4 years, meaning that codes 10 and 11 in the EDUC variable would be considered to have completed college education. Furthermore, for better representation of our data, we changed the original codes from the EDUC variable into a meaningful representation. Instead of numerically incrementing the codes based on order, we set a new variable YEARS_EDUC that categorized the variables based on the number of years of education. For example, for code 01 which included nursery school to grade 4, we changed the code into 2.5, representing respondents in that category as people with 2.5 years of education. Respondents with 1 year of college education were categorized into code 13, since it represents 13 years of education starting from grade 1. We believe that this is a better representation of the variable since the output is organized into the years of education."
   ]
  },
  {
   "cell_type": "markdown",
   "id": "402aa15c",
   "metadata": {},
   "source": [
    "## Descriptive statistics:"
   ]
  },
  {
   "cell_type": "code",
   "execution_count": 1,
   "id": "b83c8192",
   "metadata": {
    "scrolled": true
   },
   "outputs": [],
   "source": [
    "# Import packages\n",
    "import numpy as np\n",
    "import pandas as pd\n",
    "import seaborn as sns\n",
    "import scipy.stats as stats\n",
    "from statsmodels.stats.proportion import proportions_ztest\n",
    "\n",
    "pd.options.display.float_format = '{:.4f}'.format\n",
    "pd.options.mode.chained_assignment = None\n",
    "\n",
    "# Reading csv file\n",
    "database = pd.read_csv(\"/Users/williamchung/Desktop/Workspace/Data/datafinal.csv\")\n",
    "\n",
    "# Drop special codes that indicate unknown data as mentioned in variable descriptions\n",
    "data = database.loc[(database['EDUC'] != 0) & (database['INCWAGE'] != 999999) & (database['INCWAGE'] != 999998)]"
   ]
  },
  {
   "cell_type": "code",
   "execution_count": 2,
   "id": "a9da0f09",
   "metadata": {},
   "outputs": [],
   "source": [
    "### Converting SEX --> FEMALE\n",
    "# Create \"FEMALE\": 1 if female (code: 2), 0 if not\n",
    "# Define function:\n",
    "def f_female(x):\n",
    "    if x == 2:\n",
    "        return 1\n",
    "    else:\n",
    "        return 0\n",
    "    \n",
    "# Apply function:\n",
    "data['FEMALE'] = data['SEX'].apply(f_female)"
   ]
  },
  {
   "cell_type": "code",
   "execution_count": 3,
   "id": "490217b9",
   "metadata": {},
   "outputs": [],
   "source": [
    "### Converting EDUC --> YEARS_EDUC\n",
    "# Create \"YEARS_EDUC\": returns the number of years of education from the code of EDUC variable in data\n",
    "def f_years_educ(x):\n",
    "    if x == 1:\n",
    "        return 2.5\n",
    "    elif x == 2:\n",
    "        return 6.5\n",
    "    elif x == 3:\n",
    "        return 9\n",
    "    elif x == 4:\n",
    "        return 10\n",
    "    elif x == 5:\n",
    "        return 11\n",
    "    elif x == 6:\n",
    "        return 12\n",
    "    elif x == 7:\n",
    "        return 13\n",
    "    elif x == 8:\n",
    "        return 14\n",
    "    elif x == 9:\n",
    "        return 15\n",
    "    elif x == 10:\n",
    "        return 16\n",
    "    else: # same as when x == 17\n",
    "        return 17\n",
    "\n",
    "# Apply function:\n",
    "data['YEARS_EDUC'] = data['EDUC'].apply(f_years_educ)"
   ]
  },
  {
   "cell_type": "code",
   "execution_count": 4,
   "id": "54dd80a4",
   "metadata": {},
   "outputs": [],
   "source": [
    "### Converting RACE --> WHITE\n",
    "# Create \"WHITE\": 1 if white (code: 1), 0 if not\n",
    "# Define function:\n",
    "def f_white(x):\n",
    "    if x == 1:\n",
    "        return 1\n",
    "    else:\n",
    "        return 0\n",
    "    \n",
    "# Apply function:\n",
    "data['WHITE'] = data['RACE'].apply(f_white)"
   ]
  },
  {
   "cell_type": "code",
   "execution_count": 5,
   "id": "52f33c81",
   "metadata": {},
   "outputs": [],
   "source": [
    "### Converting RACE --> BLACK\n",
    "# Create \"BLACK\": 1 if black (code: 2), 0 if not\n",
    "# Define function:\n",
    "def f_black(x):\n",
    "    if x == 2:\n",
    "        return 1\n",
    "    else:\n",
    "        return 0\n",
    "    \n",
    "# Apply function:\n",
    "data['BLACK'] = data['RACE'].apply(f_black)"
   ]
  },
  {
   "cell_type": "code",
   "execution_count": 6,
   "id": "9b5dad09",
   "metadata": {},
   "outputs": [],
   "source": [
    "### Converting RACE --> OTHERS\n",
    "# Create \"OTHERS\": 1 if other races (code: 3-9), 0 if not\n",
    "# Define function:\n",
    "def f_others(x):\n",
    "    if x == 1 or x == 2:\n",
    "        return 0\n",
    "    else:\n",
    "        return 1\n",
    "    \n",
    "# Apply function:\n",
    "data['OTHERS'] = data['RACE'].apply(f_others)"
   ]
  },
  {
   "cell_type": "code",
   "execution_count": 7,
   "id": "e418b587",
   "metadata": {},
   "outputs": [],
   "source": [
    "### EDUC --> COLLEGE\n",
    "# Split sample into 2 categories by completion of college education:\n",
    "group = ['No College', 'College']\n",
    "limit = [0, 15, 17] # set first parameter as 0 to include 2.5 years of education category\n",
    "# fist bin (no college): 0 to 15 years of education, second bin (college): 16 to 17 years of education, we assume college education from at least 4 years which is 16 years of education and above\n",
    "data['COLLEGE'] = pd.cut(data['YEARS_EDUC'], bins=limit, labels=group)"
   ]
  },
  {
   "cell_type": "markdown",
   "id": "ff89b350",
   "metadata": {},
   "source": [
    "### Summary Statistics Table"
   ]
  },
  {
   "cell_type": "markdown",
   "id": "0ea2e9aa",
   "metadata": {},
   "source": [
    "Based on the results of our summary statistics table, we found that the gender ratio of the respondents in 2019 were relatively equal, with a mean proportion of 51.44% of females. However, we found that for race, a vast majority of the respondents were white, with 78.6% of the respondents being white, followed by 12.09% of other races, and 9.31% of black respondents. Furthermore, another trend with were able to discover was that the average income of Americans in 2019 from the database was \\\\$32,506, with a standard deviation of \\$58,902. Since the standard deviation is higher than the mean income, this means that the respondents' incomes were very spread out. Another interesting trend we noticed was that the average respondent had approximately 13 years of education, meaning that the typical respondent completed at least 1 year of college. Also, the 2.4 standard deviation means that about 68% of the respondents in the dataset had education between grade 11 and 3 years of college, which indicates that a majority of the respondents could not earn a college degree, assuming that 4 years of college education is required to complete college."
   ]
  },
  {
   "cell_type": "code",
   "execution_count": 8,
   "id": "da815c35",
   "metadata": {},
   "outputs": [
    {
     "data": {
      "text/html": [
       "<div>\n",
       "<style scoped>\n",
       "    .dataframe tbody tr th:only-of-type {\n",
       "        vertical-align: middle;\n",
       "    }\n",
       "\n",
       "    .dataframe tbody tr th {\n",
       "        vertical-align: top;\n",
       "    }\n",
       "\n",
       "    .dataframe thead th {\n",
       "        text-align: right;\n",
       "    }\n",
       "</style>\n",
       "<table border=\"1\" class=\"dataframe\">\n",
       "  <thead>\n",
       "    <tr style=\"text-align: right;\">\n",
       "      <th></th>\n",
       "      <th>FEMALE</th>\n",
       "      <th>WHITE</th>\n",
       "      <th>BLACK</th>\n",
       "      <th>OTHERS</th>\n",
       "      <th>INCWAGE</th>\n",
       "      <th>YEARS_EDUC</th>\n",
       "    </tr>\n",
       "  </thead>\n",
       "  <tbody>\n",
       "    <tr>\n",
       "      <th>mean</th>\n",
       "      <td>0.5144</td>\n",
       "      <td>0.7860</td>\n",
       "      <td>0.0931</td>\n",
       "      <td>0.1209</td>\n",
       "      <td>32506.3598</td>\n",
       "      <td>13.4005</td>\n",
       "    </tr>\n",
       "    <tr>\n",
       "      <th>std</th>\n",
       "      <td>0.4998</td>\n",
       "      <td>0.4101</td>\n",
       "      <td>0.2906</td>\n",
       "      <td>0.3260</td>\n",
       "      <td>58902.7909</td>\n",
       "      <td>2.4333</td>\n",
       "    </tr>\n",
       "    <tr>\n",
       "      <th>min</th>\n",
       "      <td>0.0000</td>\n",
       "      <td>0.0000</td>\n",
       "      <td>0.0000</td>\n",
       "      <td>0.0000</td>\n",
       "      <td>0.0000</td>\n",
       "      <td>2.5000</td>\n",
       "    </tr>\n",
       "    <tr>\n",
       "      <th>max</th>\n",
       "      <td>1.0000</td>\n",
       "      <td>1.0000</td>\n",
       "      <td>1.0000</td>\n",
       "      <td>1.0000</td>\n",
       "      <td>717000.0000</td>\n",
       "      <td>17.0000</td>\n",
       "    </tr>\n",
       "    <tr>\n",
       "      <th>count</th>\n",
       "      <td>2638601.0000</td>\n",
       "      <td>2638601.0000</td>\n",
       "      <td>2638601.0000</td>\n",
       "      <td>2638601.0000</td>\n",
       "      <td>2638601.0000</td>\n",
       "      <td>2638601.0000</td>\n",
       "    </tr>\n",
       "  </tbody>\n",
       "</table>\n",
       "</div>"
      ],
      "text/plain": [
       "            FEMALE        WHITE        BLACK       OTHERS      INCWAGE  \\\n",
       "mean        0.5144       0.7860       0.0931       0.1209   32506.3598   \n",
       "std         0.4998       0.4101       0.2906       0.3260   58902.7909   \n",
       "min         0.0000       0.0000       0.0000       0.0000       0.0000   \n",
       "max         1.0000       1.0000       1.0000       1.0000  717000.0000   \n",
       "count 2638601.0000 2638601.0000 2638601.0000 2638601.0000 2638601.0000   \n",
       "\n",
       "        YEARS_EDUC  \n",
       "mean       13.4005  \n",
       "std         2.4333  \n",
       "min         2.5000  \n",
       "max        17.0000  \n",
       "count 2638601.0000  "
      ]
     },
     "execution_count": 8,
     "metadata": {},
     "output_type": "execute_result"
    }
   ],
   "source": [
    "data[['FEMALE', 'WHITE', 'BLACK', 'OTHERS', 'INCWAGE', 'YEARS_EDUC']].agg(['mean', 'std', 'min', 'max', 'count'])"
   ]
  },
  {
   "cell_type": "markdown",
   "id": "114436c2",
   "metadata": {},
   "source": [
    "## Plots:"
   ]
  },
  {
   "cell_type": "markdown",
   "id": "3f0c7d3f",
   "metadata": {},
   "source": [
    "For the first plot, we examined the two main variables from our dataset, average yearly income and college graduation. Although the income variable was already given in the dataset, the college graduation variable was created above by splitting the respondents into two categories: no college and college. If the respondent had completed at least 4 years of college education, we put the respondent into the college category. However, if the respondent completed lower than 4 years of college education, we put the respondent into the no college category. Then, we used a bar plot to compare the income between the two categories of no college and college education. The plot shows that respondents who attained college education had a significantly higher average income than those who did not attain a college education. Furthermore, we wanted to investigate further into our research by looking at the gender variable. For the second plot, we displayed a heatmap that examined the average income using the gender variable and the college variable to see if there was a relationship between gender and college education. The result of the heatmap shows that men who had college education earned the highest income, followed by women who had college education. The lowest average income were women who did not attend college. Analyzing the results of the heatmap, we can conclude that gender plays a role in a person's income. Although having a college education is more important than gender since women with college degrees had higher salaries than men who did not, men with college education earned a significantly higher income than women with college education."
   ]
  },
  {
   "cell_type": "code",
   "execution_count": 9,
   "id": "f62a8aa0",
   "metadata": {},
   "outputs": [
    {
     "data": {
      "image/png": "[encoded data removed]",
      "text/plain": [
       "<Figure size 432x288 with 1 Axes>"
      ]
     },
     "metadata": {
      "needs_background": "light"
     },
     "output_type": "display_data"
    }
   ],
   "source": [
    "# Plot1: Bar Graph between Income and College Graduation\n",
    "plot1 = sns.barplot(data=data, x='COLLEGE', y='INCWAGE', ci=None);\n",
    "plot1.set(title='Average Income by College Graduation', xlabel='College Graduation', ylabel='Income');"
   ]
  },
  {
   "cell_type": "code",
   "execution_count": 10,
   "id": "e333d272",
   "metadata": {},
   "outputs": [
    {
     "data": {
      "image/png": "[encoded data removed]",
      "text/plain": [
       "<Figure size 432x288 with 2 Axes>"
      ]
     },
     "metadata": {
      "needs_background": "light"
     },
     "output_type": "display_data"
    }
   ],
   "source": [
    "# Plot2: Pivot Table that displays mean of Income by College Graduation and Gender\n",
    "pivot = data.pivot_table(values = ['INCWAGE'], \n",
    "                            index = 'COLLEGE',\n",
    "                            columns = 'FEMALE',\n",
    "                            aggfunc = 'mean')\n",
    "\n",
    "# Plot pivot table\n",
    "plot2= sns.heatmap(pivot, annot=True, fmt='g')\n",
    "plot2.set(title='Average Income by College Graduation and Gender',\n",
    "            xlabel='Income', ylabel='College Graduation',\n",
    "            xticklabels=['Male', 'Female']);"
   ]
  },
  {
   "cell_type": "markdown",
   "id": "f0c7352e",
   "metadata": {},
   "source": [
    "## Hypothesis Testing "
   ]
  },
  {
   "cell_type": "markdown",
   "id": "e8b39781",
   "metadata": {},
   "source": [
    "Looking at the results of our 3 hypothesis tests, we discovered many relationships among the 3 variables: income, years of education, and gender. Foremost, we initially examined the relationship between the mean income of respondents with college degrees and without college degrees. By examining the sample means of the two groups, we noticed that the mean income of college degree respondents were significantly higher. After conducting our hypothesis test, the t-statistic was 527, which is a very high number. Since greater magnitude of T means greater evidence against the null hypothesis, we can conclude that there is a sufficient amount of evidence to claim that there is a significant difference between the mean income of respondents who had college degrees and those who did not. Furthermore, the p-value was 0, which is a very small number. Since a smaller p-value means greater evidence to reject the null hypothesis, we also concluded that the mean income of respondents with college degrees is NOT the same as the mean income of respondents without college degrees. Similarly, we conducted hypothesis tests involving gender. We initially examined the proportion of male and female respondents with college degrees. Again, the t-statistic was very high and the p-value was 0, which means that there was enough evidence to reject that null hypothesis. Therefore, we concluded that the proportion of male college graduates and the proportion of female college graduates were not the same. Our last hypothesis test involved the mean income of male and female respondents. Since the high t-statistic and the p-value of 0 allows us to reject the null hypothesis, we also concluded that the mean income of male and female respondents were not the same. To add on, all three hypothesis tests provide a test-statistic that is too high to even consider a critical value or alpha. "
   ]
  },
  {
   "cell_type": "markdown",
   "id": "126f5acb",
   "metadata": {},
   "source": [
    "### Test 1\n",
    "Null Hypothesis: The mean income of respondents with college degrees is the same as the mean income of respondents without college degrees. \n",
    "\n",
    "Alternative Hypothesis: The mean income of respondents with college degrees is NOT the same as the mean income of respondents without college degrees."
   ]
  },
  {
   "cell_type": "code",
   "execution_count": 11,
   "id": "8885e3bf",
   "metadata": {},
   "outputs": [
    {
     "data": {
      "text/plain": [
       "COLLEGE\n",
       "No College   20206.5934\n",
       "College      59403.4048\n",
       "Name: INCWAGE, dtype: float64"
      ]
     },
     "execution_count": 11,
     "metadata": {},
     "output_type": "execute_result"
    }
   ],
   "source": [
    "# Check for numerical means of income between college and no college\n",
    "data.groupby('COLLEGE')['INCWAGE'].mean()"
   ]
  },
  {
   "cell_type": "code",
   "execution_count": 12,
   "id": "010b4f5a",
   "metadata": {},
   "outputs": [],
   "source": [
    "# Create two samples by college education to do test for difference on income\n",
    "college = data[data['COLLEGE']=='College']['INCWAGE']\n",
    "no_college = data[data['COLLEGE']=='No College']['INCWAGE']"
   ]
  },
  {
   "cell_type": "code",
   "execution_count": 13,
   "id": "44958731",
   "metadata": {},
   "outputs": [
    {
     "name": "stdout",
     "output_type": "stream",
     "text": [
      "test-stat:  527.3656\n",
      "p-value:  0.0\n"
     ]
    }
   ],
   "source": [
    "test_college = stats.ttest_ind(college, no_college)\n",
    "print('test-stat: ', round(test_college[0], 4))\n",
    "print('p-value: ', round(test_college[1], 4))"
   ]
  },
  {
   "cell_type": "markdown",
   "id": "01dd79f5",
   "metadata": {},
   "source": [
    "### Test 2\n",
    "Null Hypothesis: The proportion of female respondents with college degrees is the same as the proportion of male respondents with college degrees.\n",
    "\n",
    "Alternative Hypothesis: The proportion of female respondents with college degrees is NOT the same as the proportion of male respondents with college degrees."
   ]
  },
  {
   "cell_type": "code",
   "execution_count": 14,
   "id": "6015684a",
   "metadata": {},
   "outputs": [
    {
     "data": {
      "text/html": [
       "<div>\n",
       "<style scoped>\n",
       "    .dataframe tbody tr th:only-of-type {\n",
       "        vertical-align: middle;\n",
       "    }\n",
       "\n",
       "    .dataframe tbody tr th {\n",
       "        vertical-align: top;\n",
       "    }\n",
       "\n",
       "    .dataframe thead th {\n",
       "        text-align: right;\n",
       "    }\n",
       "</style>\n",
       "<table border=\"1\" class=\"dataframe\">\n",
       "  <thead>\n",
       "    <tr style=\"text-align: right;\">\n",
       "      <th>COLLEGE</th>\n",
       "      <th>No College</th>\n",
       "      <th>College</th>\n",
       "      <th>All</th>\n",
       "    </tr>\n",
       "    <tr>\n",
       "      <th>FEMALE</th>\n",
       "      <th></th>\n",
       "      <th></th>\n",
       "      <th></th>\n",
       "    </tr>\n",
       "  </thead>\n",
       "  <tbody>\n",
       "    <tr>\n",
       "      <th>0</th>\n",
       "      <td>0.3382</td>\n",
       "      <td>0.1475</td>\n",
       "      <td>0.4856</td>\n",
       "    </tr>\n",
       "    <tr>\n",
       "      <th>1</th>\n",
       "      <td>0.3480</td>\n",
       "      <td>0.1663</td>\n",
       "      <td>0.5144</td>\n",
       "    </tr>\n",
       "    <tr>\n",
       "      <th>All</th>\n",
       "      <td>0.6862</td>\n",
       "      <td>0.3138</td>\n",
       "      <td>1.0000</td>\n",
       "    </tr>\n",
       "  </tbody>\n",
       "</table>\n",
       "</div>"
      ],
      "text/plain": [
       "COLLEGE  No College  College    All\n",
       "FEMALE                             \n",
       "0            0.3382   0.1475 0.4856\n",
       "1            0.3480   0.1663 0.5144\n",
       "All          0.6862   0.3138 1.0000"
      ]
     },
     "execution_count": 14,
     "metadata": {},
     "output_type": "execute_result"
    }
   ],
   "source": [
    "# Proportion of respondents with college degrees by gender\n",
    "pd.crosstab(data['FEMALE'], data['COLLEGE'], margins=True, normalize=True)"
   ]
  },
  {
   "cell_type": "code",
   "execution_count": 15,
   "id": "f0c28712",
   "metadata": {},
   "outputs": [
    {
     "data": {
      "text/html": [
       "<div>\n",
       "<style scoped>\n",
       "    .dataframe tbody tr th:only-of-type {\n",
       "        vertical-align: middle;\n",
       "    }\n",
       "\n",
       "    .dataframe tbody tr th {\n",
       "        vertical-align: top;\n",
       "    }\n",
       "\n",
       "    .dataframe thead th {\n",
       "        text-align: right;\n",
       "    }\n",
       "</style>\n",
       "<table border=\"1\" class=\"dataframe\">\n",
       "  <thead>\n",
       "    <tr style=\"text-align: right;\">\n",
       "      <th>COLLEGE</th>\n",
       "      <th>No College</th>\n",
       "      <th>College</th>\n",
       "      <th>All</th>\n",
       "    </tr>\n",
       "    <tr>\n",
       "      <th>FEMALE</th>\n",
       "      <th></th>\n",
       "      <th></th>\n",
       "      <th></th>\n",
       "    </tr>\n",
       "  </thead>\n",
       "  <tbody>\n",
       "    <tr>\n",
       "      <th>0</th>\n",
       "      <td>892313</td>\n",
       "      <td>389081</td>\n",
       "      <td>1281394</td>\n",
       "    </tr>\n",
       "    <tr>\n",
       "      <th>1</th>\n",
       "      <td>918308</td>\n",
       "      <td>438899</td>\n",
       "      <td>1357207</td>\n",
       "    </tr>\n",
       "    <tr>\n",
       "      <th>All</th>\n",
       "      <td>1810621</td>\n",
       "      <td>827980</td>\n",
       "      <td>2638601</td>\n",
       "    </tr>\n",
       "  </tbody>\n",
       "</table>\n",
       "</div>"
      ],
      "text/plain": [
       "COLLEGE  No College  College      All\n",
       "FEMALE                               \n",
       "0            892313   389081  1281394\n",
       "1            918308   438899  1357207\n",
       "All         1810621   827980  2638601"
      ]
     },
     "execution_count": 15,
     "metadata": {},
     "output_type": "execute_result"
    }
   ],
   "source": [
    "# Frequency of respondents with college degrees by gender\n",
    "pd.crosstab(data['FEMALE'], data['COLLEGE'], margins=True)"
   ]
  },
  {
   "cell_type": "code",
   "execution_count": 16,
   "id": "f26f385d",
   "metadata": {},
   "outputs": [
    {
     "name": "stdout",
     "output_type": "stream",
     "text": [
      "T-Stat:  34.5452\n",
      "P-Value:  0.0\n"
     ]
    }
   ],
   "source": [
    "# Run test by gender\n",
    "test_pro_gen = proportions_ztest([892313, 918308], [1281394, 1357207])\n",
    "print('T-Stat: ', round(test_pro_gen[0], 4))\n",
    "print('P-Value: ', round(test_pro_gen[1], 4))"
   ]
  },
  {
   "cell_type": "markdown",
   "id": "44e0b13d",
   "metadata": {},
   "source": [
    "### Test 3\n",
    "Null Hypothesis: The mean income of female respondents is the same as the mean income of male respondents.\n",
    "\n",
    "Alternative Hypothesis: The mean income of female respondents is NOT the same as the mean income of male respondents."
   ]
  },
  {
   "cell_type": "code",
   "execution_count": 17,
   "id": "0895a5a3",
   "metadata": {},
   "outputs": [
    {
     "data": {
      "text/plain": [
       "FEMALE\n",
       "0   41114.4129\n",
       "1   24379.1488\n",
       "Name: INCWAGE, dtype: float64"
      ]
     },
     "execution_count": 17,
     "metadata": {},
     "output_type": "execute_result"
    }
   ],
   "source": [
    "# Check for numerical means of income between male (0) and female (1)\n",
    "data.groupby('FEMALE')['INCWAGE'].mean()"
   ]
  },
  {
   "cell_type": "code",
   "execution_count": 18,
   "id": "52383dca",
   "metadata": {},
   "outputs": [],
   "source": [
    "# Create two samples by gender to do test for difference on income\n",
    "female = data[data['FEMALE']==1]['INCWAGE']\n",
    "male = data[data['FEMALE']==0]['INCWAGE']"
   ]
  },
  {
   "cell_type": "code",
   "execution_count": 19,
   "id": "804a8150",
   "metadata": {},
   "outputs": [
    {
     "name": "stdout",
     "output_type": "stream",
     "text": [
      "test-stat:  -233.0223\n",
      "p-value:  0.0\n"
     ]
    }
   ],
   "source": [
    "test_gen = stats.ttest_ind(female, male)\n",
    "print('test-stat: ', round(test_gen[0], 4))\n",
    "print('p-value: ', round(test_gen[1], 4))"
   ]
  },
  {
   "cell_type": "markdown",
   "id": "e8042953",
   "metadata": {},
   "source": [
    "## Conclusion"
   ]
  },
  {
   "cell_type": "markdown",
   "id": "54760ef5",
   "metadata": {},
   "source": [
    "Based on our examination of our data through our literature review, summary statistics, plots, and hypothesis tests, we were able to find substantial evidence to assess the impact of college education on an American's income. We believe that college education is a significant factor that affects the income of an American person. Specifically, our group concluded that an American that completed a college degree would earn more money than those who did not complete a college degree. Primarily, through our research in our peer reviewed articles, there has been significant evidence of the positive correlation between a college degree and a person's income. Additionally, our barplot suggests that the average income of a person with a college education is significantly higher. We further substaniated our conclusion through the hypothesis testing of the mean income of college graduates and non-college graduates. Since there was significant evidence to reject the null hypothesis, we are confident that the mean income of college graduates and non-college graduates were not the same. Another interesting trend we discovered was the impact of gender on a person's income. Through our summary statistics table, the ratio of male and female respondents was almost the same, which indicates that our dataset was not biased to make conclusions on gender. Furthermore, through our heatmap, we were able to visualize that the mean income of men was higher than the mean income of women for college graduates and non-college graduates, emphasizing that men earned more than women in general. Finally, through our hypothesis tests, we were able to conclude that the proporton of men with college degrees was not the same as the proportion of women with college degrees, and that the mean income of men was not the same as the mean income of women. This suggests that since men are likely to have a college degree, since they have a higher average income than those of women. Through our project, we were able to truly appreciate our current college experience, since completing a college education suggests that we will earn a higher income. Furthermore, it is unfortunate to see that there is a gender issue regarding the average income of people in America, with women earning less than men on average."
   ]
  },
  {
   "cell_type": "code",
   "execution_count": 2,
   "id": "c33697cf",
   "metadata": {},
   "outputs": [
    {
     "name": "stdout",
     "output_type": "stream",
     "text": [
      "[NbConvertApp] Converting notebook IncomeAndEducation.ipynb to html\n",
      "[NbConvertApp] Writing 673989 bytes to IncomeAndEducation.html\n"
     ]
    }
   ],
   "source": [
    "!jupyter nbconvert --to html IncomeAndEducation.ipynb"
   ]
  },
  {
   "cell_type": "code",
   "execution_count": null,
   "id": "93535986",
   "metadata": {},
   "outputs": [],
   "source": []
  }
 ],
 "metadata": {
  "kernelspec": {
   "display_name": "Python 3 (ipykernel)",
   "language": "python",
   "name": "python3"
  },
  "language_info": {
   "codemirror_mode": {
    "name": "ipython",
    "version": 3
   },
   "file_extension": ".py",
   "mimetype": "text/x-python",
   "name": "python",
   "nbconvert_exporter": "python",
   "pygments_lexer": "ipython3",
   "version": "3.9.12"
  }
 },
 "nbformat": 4,
 "nbformat_minor": 5
}
